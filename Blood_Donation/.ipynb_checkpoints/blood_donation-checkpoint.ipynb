{
 "cells": [
  {
   "cell_type": "code",
   "execution_count": 19,
   "metadata": {
    "collapsed": false
   },
   "outputs": [],
   "source": [
    "import warnings\n",
    "warnings.filterwarnings('ignore')"
   ]
  },
  {
   "cell_type": "code",
   "execution_count": 20,
   "metadata": {
    "collapsed": false
   },
   "outputs": [],
   "source": [
    "import pandas as pd\n",
    "import numpy as np\n",
    "import matplotlib.pyplot as plt\n"
   ]
  },
  {
   "cell_type": "code",
   "execution_count": 21,
   "metadata": {
    "collapsed": false
   },
   "outputs": [],
   "source": [
    "data_train = pd.read_csv(\"./Dataset/train.csv\")\n",
    "data_test = pd.read_csv(\"./Dataset/test.csv\")"
   ]
  },
  {
   "cell_type": "code",
   "execution_count": 22,
   "metadata": {
    "collapsed": true
   },
   "outputs": [
    {
     "data": {
      "text/html": [
       "<div>\n",
       "<table border=\"1\" class=\"dataframe\">\n",
       "  <thead>\n",
       "    <tr style=\"text-align: right;\">\n",
       "      <th></th>\n",
       "      <th>Unnamed: 0</th>\n",
       "      <th>Months since Last Donation</th>\n",
       "      <th>Number of Donations</th>\n",
       "      <th>Total Volume Donated (c.c.)</th>\n",
       "      <th>Months since First Donation</th>\n",
       "    </tr>\n",
       "  </thead>\n",
       "  <tbody>\n",
       "    <tr>\n",
       "      <th>0</th>\n",
       "      <td>659</td>\n",
       "      <td>2</td>\n",
       "      <td>12</td>\n",
       "      <td>3000</td>\n",
       "      <td>52</td>\n",
       "    </tr>\n",
       "    <tr>\n",
       "      <th>1</th>\n",
       "      <td>276</td>\n",
       "      <td>21</td>\n",
       "      <td>7</td>\n",
       "      <td>1750</td>\n",
       "      <td>38</td>\n",
       "    </tr>\n",
       "    <tr>\n",
       "      <th>2</th>\n",
       "      <td>263</td>\n",
       "      <td>4</td>\n",
       "      <td>1</td>\n",
       "      <td>250</td>\n",
       "      <td>4</td>\n",
       "    </tr>\n",
       "    <tr>\n",
       "      <th>3</th>\n",
       "      <td>303</td>\n",
       "      <td>11</td>\n",
       "      <td>11</td>\n",
       "      <td>2750</td>\n",
       "      <td>38</td>\n",
       "    </tr>\n",
       "    <tr>\n",
       "      <th>4</th>\n",
       "      <td>83</td>\n",
       "      <td>4</td>\n",
       "      <td>12</td>\n",
       "      <td>3000</td>\n",
       "      <td>34</td>\n",
       "    </tr>\n",
       "  </tbody>\n",
       "</table>\n",
       "</div>"
      ],
      "text/plain": [
       "   Unnamed: 0  Months since Last Donation  Number of Donations  \\\n",
       "0         659                           2                   12   \n",
       "1         276                          21                    7   \n",
       "2         263                           4                    1   \n",
       "3         303                          11                   11   \n",
       "4          83                           4                   12   \n",
       "\n",
       "   Total Volume Donated (c.c.)  Months since First Donation  \n",
       "0                         3000                           52  \n",
       "1                         1750                           38  \n",
       "2                          250                            4  \n",
       "3                         2750                           38  \n",
       "4                         3000                           34  "
      ]
     },
     "execution_count": 22,
     "metadata": {},
     "output_type": "execute_result"
    }
   ],
   "source": [
    "data_test.head()"
   ]
  },
  {
   "cell_type": "code",
   "execution_count": 23,
   "metadata": {
    "collapsed": true
   },
   "outputs": [
    {
     "data": {
      "text/html": [
       "<div>\n",
       "<table border=\"1\" class=\"dataframe\">\n",
       "  <thead>\n",
       "    <tr style=\"text-align: right;\">\n",
       "      <th></th>\n",
       "      <th>Unnamed: 0</th>\n",
       "      <th>Months since Last Donation</th>\n",
       "      <th>Number of Donations</th>\n",
       "      <th>Total Volume Donated (c.c.)</th>\n",
       "      <th>Months since First Donation</th>\n",
       "      <th>Made Donation in March 2007</th>\n",
       "    </tr>\n",
       "  </thead>\n",
       "  <tbody>\n",
       "    <tr>\n",
       "      <th>0</th>\n",
       "      <td>619</td>\n",
       "      <td>2</td>\n",
       "      <td>50</td>\n",
       "      <td>12500</td>\n",
       "      <td>98</td>\n",
       "      <td>1</td>\n",
       "    </tr>\n",
       "    <tr>\n",
       "      <th>1</th>\n",
       "      <td>664</td>\n",
       "      <td>0</td>\n",
       "      <td>13</td>\n",
       "      <td>3250</td>\n",
       "      <td>28</td>\n",
       "      <td>1</td>\n",
       "    </tr>\n",
       "    <tr>\n",
       "      <th>2</th>\n",
       "      <td>441</td>\n",
       "      <td>1</td>\n",
       "      <td>16</td>\n",
       "      <td>4000</td>\n",
       "      <td>35</td>\n",
       "      <td>1</td>\n",
       "    </tr>\n",
       "    <tr>\n",
       "      <th>3</th>\n",
       "      <td>160</td>\n",
       "      <td>2</td>\n",
       "      <td>20</td>\n",
       "      <td>5000</td>\n",
       "      <td>45</td>\n",
       "      <td>1</td>\n",
       "    </tr>\n",
       "    <tr>\n",
       "      <th>4</th>\n",
       "      <td>358</td>\n",
       "      <td>1</td>\n",
       "      <td>24</td>\n",
       "      <td>6000</td>\n",
       "      <td>77</td>\n",
       "      <td>0</td>\n",
       "    </tr>\n",
       "  </tbody>\n",
       "</table>\n",
       "</div>"
      ],
      "text/plain": [
       "   Unnamed: 0  Months since Last Donation  Number of Donations  \\\n",
       "0         619                           2                   50   \n",
       "1         664                           0                   13   \n",
       "2         441                           1                   16   \n",
       "3         160                           2                   20   \n",
       "4         358                           1                   24   \n",
       "\n",
       "   Total Volume Donated (c.c.)  Months since First Donation  \\\n",
       "0                        12500                           98   \n",
       "1                         3250                           28   \n",
       "2                         4000                           35   \n",
       "3                         5000                           45   \n",
       "4                         6000                           77   \n",
       "\n",
       "   Made Donation in March 2007  \n",
       "0                            1  \n",
       "1                            1  \n",
       "2                            1  \n",
       "3                            1  \n",
       "4                            0  "
      ]
     },
     "execution_count": 23,
     "metadata": {},
     "output_type": "execute_result"
    }
   ],
   "source": [
    "data_train.head()"
   ]
  },
  {
   "cell_type": "code",
   "execution_count": 24,
   "metadata": {
    "collapsed": true
   },
   "outputs": [],
   "source": [
    "from sklearn.ensemble import RandomForestClassifier"
   ]
  },
  {
   "cell_type": "code",
   "execution_count": 25,
   "metadata": {
    "collapsed": true
   },
   "outputs": [],
   "source": [
    "y_train = data_train['Made Donation in March 2007'].as_matrix()"
   ]
  },
  {
   "cell_type": "code",
   "execution_count": 26,
   "metadata": {
    "collapsed": false
   },
   "outputs": [],
   "source": [
    "data_train.drop(['Made Donation in March 2007'],axis=1,inplace=True)"
   ]
  },
  {
   "cell_type": "code",
   "execution_count": 27,
   "metadata": {
    "collapsed": true
   },
   "outputs": [],
   "source": [
    "X_train = data_train"
   ]
  },
  {
   "cell_type": "code",
   "execution_count": 28,
   "metadata": {
    "collapsed": true
   },
   "outputs": [],
   "source": [
    "X_train.drop(['Unnamed: 0'],axis=1,inplace=True)\n",
    "X_train = X_train.as_matrix()"
   ]
  },
  {
   "cell_type": "code",
   "execution_count": 29,
   "metadata": {
    "collapsed": true
   },
   "outputs": [],
   "source": [
    "from sklearn.grid_search import GridSearchCV"
   ]
  },
  {
   "cell_type": "code",
   "execution_count": 61,
   "metadata": {
    "collapsed": false
   },
   "outputs": [],
   "source": [
    "model = RandomForestClassifier()\n",
    "#RandomForestClassifier?"
   ]
  },
  {
   "cell_type": "code",
   "execution_count": 72,
   "metadata": {
    "collapsed": false
   },
   "outputs": [],
   "source": [
    "n_est_opt = [10,20,50,100,300,1000]\n",
    "criterion_opt = ['gini','entropy']\n",
    "min_samples_leaf_opt = [4,5,6,7,8,9,10]"
   ]
  },
  {
   "cell_type": "code",
   "execution_count": 73,
   "metadata": {
    "collapsed": false
   },
   "outputs": [],
   "source": [
    "param_grid = dict(n_estimators = n_est_opt,criterion = criterion_opt,min_samples_leaf = min_sample_leaf_opt)"
   ]
  },
  {
   "cell_type": "code",
   "execution_count": 74,
   "metadata": {
    "collapsed": true
   },
   "outputs": [],
   "source": [
    "grid = GridSearchCV(model,param_grid,cv=10,scoring=\"accuracy\",n_jobs=-1)"
   ]
  },
  {
   "cell_type": "code",
   "execution_count": 75,
   "metadata": {
    "collapsed": false
   },
   "outputs": [
    {
     "data": {
      "text/plain": [
       "GridSearchCV(cv=10, error_score='raise',\n",
       "       estimator=RandomForestClassifier(bootstrap=True, class_weight=None, criterion='gini',\n",
       "            max_depth=None, max_features='auto', max_leaf_nodes=None,\n",
       "            min_samples_leaf=1, min_samples_split=2,\n",
       "            min_weight_fraction_leaf=0.0, n_estimators=10, n_jobs=1,\n",
       "            oob_score=False, random_state=None, verbose=0,\n",
       "            warm_start=False),\n",
       "       fit_params={}, iid=True, loss_func=None, n_jobs=-1,\n",
       "       param_grid={'min_samples_leaf': [1, 2, 3, 4, 5], 'criterion': ['gini', 'entropy'], 'n_estimators': [10, 20, 50, 100, 300, 1000]},\n",
       "       pre_dispatch='2*n_jobs', refit=True, score_func=None,\n",
       "       scoring='accuracy', verbose=0)"
      ]
     },
     "execution_count": 75,
     "metadata": {},
     "output_type": "execute_result"
    }
   ],
   "source": [
    "grid.fit(X_train,y_train)"
   ]
  },
  {
   "cell_type": "code",
   "execution_count": 76,
   "metadata": {
    "collapsed": false
   },
   "outputs": [
    {
     "data": {
      "text/plain": [
       "[mean: 0.67014, std: 0.14104, params: {'min_samples_leaf': 1, 'criterion': 'gini', 'n_estimators': 10},\n",
       " mean: 0.68576, std: 0.13500, params: {'min_samples_leaf': 1, 'criterion': 'gini', 'n_estimators': 20},\n",
       " mean: 0.68056, std: 0.13236, params: {'min_samples_leaf': 1, 'criterion': 'gini', 'n_estimators': 50},\n",
       " mean: 0.67361, std: 0.13862, params: {'min_samples_leaf': 1, 'criterion': 'gini', 'n_estimators': 100},\n",
       " mean: 0.67361, std: 0.13913, params: {'min_samples_leaf': 1, 'criterion': 'gini', 'n_estimators': 300},\n",
       " mean: 0.68229, std: 0.14112, params: {'min_samples_leaf': 1, 'criterion': 'gini', 'n_estimators': 1000},\n",
       " mean: 0.70833, std: 0.13731, params: {'min_samples_leaf': 2, 'criterion': 'gini', 'n_estimators': 10},\n",
       " mean: 0.71007, std: 0.13884, params: {'min_samples_leaf': 2, 'criterion': 'gini', 'n_estimators': 20},\n",
       " mean: 0.70833, std: 0.14304, params: {'min_samples_leaf': 2, 'criterion': 'gini', 'n_estimators': 50},\n",
       " mean: 0.70486, std: 0.14613, params: {'min_samples_leaf': 2, 'criterion': 'gini', 'n_estimators': 100},\n",
       " mean: 0.70833, std: 0.15361, params: {'min_samples_leaf': 2, 'criterion': 'gini', 'n_estimators': 300},\n",
       " mean: 0.71007, std: 0.14956, params: {'min_samples_leaf': 2, 'criterion': 'gini', 'n_estimators': 1000},\n",
       " mean: 0.70833, std: 0.14278, params: {'min_samples_leaf': 3, 'criterion': 'gini', 'n_estimators': 10},\n",
       " mean: 0.71875, std: 0.14330, params: {'min_samples_leaf': 3, 'criterion': 'gini', 'n_estimators': 20},\n",
       " mean: 0.72569, std: 0.14354, params: {'min_samples_leaf': 3, 'criterion': 'gini', 'n_estimators': 50},\n",
       " mean: 0.72049, std: 0.15692, params: {'min_samples_leaf': 3, 'criterion': 'gini', 'n_estimators': 100},\n",
       " mean: 0.72743, std: 0.15264, params: {'min_samples_leaf': 3, 'criterion': 'gini', 'n_estimators': 300},\n",
       " mean: 0.72917, std: 0.15308, params: {'min_samples_leaf': 3, 'criterion': 'gini', 'n_estimators': 1000},\n",
       " mean: 0.72049, std: 0.13421, params: {'min_samples_leaf': 4, 'criterion': 'gini', 'n_estimators': 10},\n",
       " mean: 0.72396, std: 0.14073, params: {'min_samples_leaf': 4, 'criterion': 'gini', 'n_estimators': 20},\n",
       " mean: 0.71875, std: 0.15271, params: {'min_samples_leaf': 4, 'criterion': 'gini', 'n_estimators': 50},\n",
       " mean: 0.72743, std: 0.14587, params: {'min_samples_leaf': 4, 'criterion': 'gini', 'n_estimators': 100},\n",
       " mean: 0.72917, std: 0.15210, params: {'min_samples_leaf': 4, 'criterion': 'gini', 'n_estimators': 300},\n",
       " mean: 0.73090, std: 0.15388, params: {'min_samples_leaf': 4, 'criterion': 'gini', 'n_estimators': 1000},\n",
       " mean: 0.74132, std: 0.13443, params: {'min_samples_leaf': 5, 'criterion': 'gini', 'n_estimators': 10},\n",
       " mean: 0.73264, std: 0.12700, params: {'min_samples_leaf': 5, 'criterion': 'gini', 'n_estimators': 20},\n",
       " mean: 0.72743, std: 0.14969, params: {'min_samples_leaf': 5, 'criterion': 'gini', 'n_estimators': 50},\n",
       " mean: 0.72569, std: 0.14903, params: {'min_samples_leaf': 5, 'criterion': 'gini', 'n_estimators': 100},\n",
       " mean: 0.72917, std: 0.15033, params: {'min_samples_leaf': 5, 'criterion': 'gini', 'n_estimators': 300},\n",
       " mean: 0.72569, std: 0.15042, params: {'min_samples_leaf': 5, 'criterion': 'gini', 'n_estimators': 1000},\n",
       " mean: 0.67188, std: 0.14873, params: {'min_samples_leaf': 1, 'criterion': 'entropy', 'n_estimators': 10},\n",
       " mean: 0.66667, std: 0.14207, params: {'min_samples_leaf': 1, 'criterion': 'entropy', 'n_estimators': 20},\n",
       " mean: 0.68576, std: 0.14272, params: {'min_samples_leaf': 1, 'criterion': 'entropy', 'n_estimators': 50},\n",
       " mean: 0.67708, std: 0.14290, params: {'min_samples_leaf': 1, 'criterion': 'entropy', 'n_estimators': 100},\n",
       " mean: 0.67535, std: 0.14145, params: {'min_samples_leaf': 1, 'criterion': 'entropy', 'n_estimators': 300},\n",
       " mean: 0.68403, std: 0.14151, params: {'min_samples_leaf': 1, 'criterion': 'entropy', 'n_estimators': 1000},\n",
       " mean: 0.68403, std: 0.13679, params: {'min_samples_leaf': 2, 'criterion': 'entropy', 'n_estimators': 10},\n",
       " mean: 0.71354, std: 0.13529, params: {'min_samples_leaf': 2, 'criterion': 'entropy', 'n_estimators': 20},\n",
       " mean: 0.71354, std: 0.15138, params: {'min_samples_leaf': 2, 'criterion': 'entropy', 'n_estimators': 50},\n",
       " mean: 0.71701, std: 0.14062, params: {'min_samples_leaf': 2, 'criterion': 'entropy', 'n_estimators': 100},\n",
       " mean: 0.71181, std: 0.14311, params: {'min_samples_leaf': 2, 'criterion': 'entropy', 'n_estimators': 300},\n",
       " mean: 0.70833, std: 0.14850, params: {'min_samples_leaf': 2, 'criterion': 'entropy', 'n_estimators': 1000},\n",
       " mean: 0.70660, std: 0.13591, params: {'min_samples_leaf': 3, 'criterion': 'entropy', 'n_estimators': 10},\n",
       " mean: 0.71701, std: 0.14458, params: {'min_samples_leaf': 3, 'criterion': 'entropy', 'n_estimators': 20},\n",
       " mean: 0.72049, std: 0.14363, params: {'min_samples_leaf': 3, 'criterion': 'entropy', 'n_estimators': 50},\n",
       " mean: 0.72222, std: 0.15571, params: {'min_samples_leaf': 3, 'criterion': 'entropy', 'n_estimators': 100},\n",
       " mean: 0.72222, std: 0.15007, params: {'min_samples_leaf': 3, 'criterion': 'entropy', 'n_estimators': 300},\n",
       " mean: 0.72743, std: 0.15781, params: {'min_samples_leaf': 3, 'criterion': 'entropy', 'n_estimators': 1000},\n",
       " mean: 0.72743, std: 0.14489, params: {'min_samples_leaf': 4, 'criterion': 'entropy', 'n_estimators': 10},\n",
       " mean: 0.71528, std: 0.14639, params: {'min_samples_leaf': 4, 'criterion': 'entropy', 'n_estimators': 20},\n",
       " mean: 0.72222, std: 0.14924, params: {'min_samples_leaf': 4, 'criterion': 'entropy', 'n_estimators': 50},\n",
       " mean: 0.72917, std: 0.15073, params: {'min_samples_leaf': 4, 'criterion': 'entropy', 'n_estimators': 100},\n",
       " mean: 0.72917, std: 0.15151, params: {'min_samples_leaf': 4, 'criterion': 'entropy', 'n_estimators': 300},\n",
       " mean: 0.73090, std: 0.15388, params: {'min_samples_leaf': 4, 'criterion': 'entropy', 'n_estimators': 1000},\n",
       " mean: 0.72743, std: 0.13106, params: {'min_samples_leaf': 5, 'criterion': 'entropy', 'n_estimators': 10},\n",
       " mean: 0.72569, std: 0.14763, params: {'min_samples_leaf': 5, 'criterion': 'entropy', 'n_estimators': 20},\n",
       " mean: 0.72396, std: 0.15171, params: {'min_samples_leaf': 5, 'criterion': 'entropy', 'n_estimators': 50},\n",
       " mean: 0.72917, std: 0.15151, params: {'min_samples_leaf': 5, 'criterion': 'entropy', 'n_estimators': 100},\n",
       " mean: 0.72569, std: 0.15042, params: {'min_samples_leaf': 5, 'criterion': 'entropy', 'n_estimators': 300},\n",
       " mean: 0.73090, std: 0.15193, params: {'min_samples_leaf': 5, 'criterion': 'entropy', 'n_estimators': 1000}]"
      ]
     },
     "execution_count": 76,
     "metadata": {},
     "output_type": "execute_result"
    }
   ],
   "source": [
    "grid.grid_scores_"
   ]
  },
  {
   "cell_type": "code",
   "execution_count": 77,
   "metadata": {
    "collapsed": false
   },
   "outputs": [
    {
     "data": {
      "text/plain": [
       "{'criterion': 'gini', 'min_samples_leaf': 5, 'n_estimators': 10}"
      ]
     },
     "execution_count": 77,
     "metadata": {},
     "output_type": "execute_result"
    }
   ],
   "source": [
    "grid.best_params_"
   ]
  },
  {
   "cell_type": "code",
   "execution_count": 78,
   "metadata": {
    "collapsed": false
   },
   "outputs": [
    {
     "data": {
      "text/plain": [
       "0.74131944444444442"
      ]
     },
     "execution_count": 78,
     "metadata": {},
     "output_type": "execute_result"
    }
   ],
   "source": [
    "grid.best_score_"
   ]
  },
  {
   "cell_type": "code",
   "execution_count": 79,
   "metadata": {
    "collapsed": false
   },
   "outputs": [
    {
     "data": {
      "text/html": [
       "<div>\n",
       "<table border=\"1\" class=\"dataframe\">\n",
       "  <thead>\n",
       "    <tr style=\"text-align: right;\">\n",
       "      <th></th>\n",
       "      <th>Unnamed: 0</th>\n",
       "      <th>Months since Last Donation</th>\n",
       "      <th>Number of Donations</th>\n",
       "      <th>Total Volume Donated (c.c.)</th>\n",
       "      <th>Months since First Donation</th>\n",
       "    </tr>\n",
       "  </thead>\n",
       "  <tbody>\n",
       "    <tr>\n",
       "      <th>0</th>\n",
       "      <td>659</td>\n",
       "      <td>2</td>\n",
       "      <td>12</td>\n",
       "      <td>3000</td>\n",
       "      <td>52</td>\n",
       "    </tr>\n",
       "    <tr>\n",
       "      <th>1</th>\n",
       "      <td>276</td>\n",
       "      <td>21</td>\n",
       "      <td>7</td>\n",
       "      <td>1750</td>\n",
       "      <td>38</td>\n",
       "    </tr>\n",
       "    <tr>\n",
       "      <th>2</th>\n",
       "      <td>263</td>\n",
       "      <td>4</td>\n",
       "      <td>1</td>\n",
       "      <td>250</td>\n",
       "      <td>4</td>\n",
       "    </tr>\n",
       "    <tr>\n",
       "      <th>3</th>\n",
       "      <td>303</td>\n",
       "      <td>11</td>\n",
       "      <td>11</td>\n",
       "      <td>2750</td>\n",
       "      <td>38</td>\n",
       "    </tr>\n",
       "    <tr>\n",
       "      <th>4</th>\n",
       "      <td>83</td>\n",
       "      <td>4</td>\n",
       "      <td>12</td>\n",
       "      <td>3000</td>\n",
       "      <td>34</td>\n",
       "    </tr>\n",
       "  </tbody>\n",
       "</table>\n",
       "</div>"
      ],
      "text/plain": [
       "   Unnamed: 0  Months since Last Donation  Number of Donations  \\\n",
       "0         659                           2                   12   \n",
       "1         276                          21                    7   \n",
       "2         263                           4                    1   \n",
       "3         303                          11                   11   \n",
       "4          83                           4                   12   \n",
       "\n",
       "   Total Volume Donated (c.c.)  Months since First Donation  \n",
       "0                         3000                           52  \n",
       "1                         1750                           38  \n",
       "2                          250                            4  \n",
       "3                         2750                           38  \n",
       "4                         3000                           34  "
      ]
     },
     "execution_count": 79,
     "metadata": {},
     "output_type": "execute_result"
    }
   ],
   "source": [
    "data_test.head()"
   ]
  },
  {
   "cell_type": "code",
   "execution_count": null,
   "metadata": {
    "collapsed": true
   },
   "outputs": [],
   "source": []
  }
 ],
 "metadata": {
  "kernelspec": {
   "display_name": "Python 3",
   "language": "python",
   "name": "python3"
  },
  "language_info": {
   "codemirror_mode": {
    "name": "ipython",
    "version": 3
   },
   "file_extension": ".py",
   "mimetype": "text/x-python",
   "name": "python",
   "nbconvert_exporter": "python",
   "pygments_lexer": "ipython3",
   "version": "3.5.1"
  }
 },
 "nbformat": 4,
 "nbformat_minor": 0
}
